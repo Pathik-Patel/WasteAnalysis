{
 "cells": [
  {
   "cell_type": "code",
   "execution_count": 10,
   "id": "33bd7487-4f3b-46e6-84bf-6374dbf0a554",
   "metadata": {},
   "outputs": [
    {
     "name": "stdout",
     "output_type": "stream",
     "text": [
      "        country                                      Variable  year  \\\n",
      "0     Australia          Public water supply - non-freshwater  2005   \n",
      "1     Australia          Public water supply - non-freshwater  2010   \n",
      "2     Australia          Public water supply - non-freshwater  2015   \n",
      "3     Australia          Public water supply - non-freshwater  2016   \n",
      "4     Australia          Public water supply - non-freshwater  2017   \n",
      "...         ...                                           ...   ...   \n",
      "6727   Colombia  Self- and other supply - Other manufacturing  2016   \n",
      "6728   Colombia  Self- and other supply - Other manufacturing  2017   \n",
      "6729   Colombia  Self- and other supply - Other manufacturing  2018   \n",
      "6730   Colombia  Self- and other supply - Other manufacturing  2019   \n",
      "6731   Colombia  Self- and other supply - Other manufacturing  2020   \n",
      "\n",
      "      pollution_rate  \n",
      "0                NaN  \n",
      "1                NaN  \n",
      "2            144.152  \n",
      "3            148.908  \n",
      "4            202.822  \n",
      "...              ...  \n",
      "6727          15.100  \n",
      "6728          15.520  \n",
      "6729          16.290  \n",
      "6730          14.610  \n",
      "6731          14.640  \n",
      "\n",
      "[6732 rows x 4 columns]\n"
     ]
    }
   ],
   "source": [
    "import pandas as pd\n",
    "from scipy import interpolate\n",
    "import matplotlib.pyplot as plt\n",
    "from sklearn.linear_model import LinearRegression\n",
    "from sklearn.neighbors import NearestNeighbors\n",
    "\n",
    "# Read CSV file and create DataFrame\n",
    "df = pd.read_csv('waste.csv', usecols=[\"country\", \"year\", \"pollution_rate\",\"Variable\"], encoding = \"ISO-8859-1\", on_bad_lines=\"skip\")\n",
    "print(df)"
   ]
  },
  {
   "cell_type": "code",
   "execution_count": 9,
   "id": "306ad4e7-7a63-4e79-bb19-da6f24c5e04e",
   "metadata": {},
   "outputs": [],
   "source": []
  },
  {
   "cell_type": "code",
   "execution_count": 7,
   "id": "f15a803c-2ad2-4315-9615-5d8123045d40",
   "metadata": {},
   "outputs": [
    {
     "name": "stdout",
     "output_type": "stream",
     "text": [
      "To see the similar countries first provide the year, for which you want to see the graph\n",
      "2005\n",
      "2010\n",
      "2015\n",
      "2016\n",
      "2017\n",
      "2018\n",
      "2019\n",
      "2020\n",
      "2021\n",
      "1980\n",
      "1985\n",
      "1990\n",
      "1995\n",
      "2000\n",
      "1970\n"
     ]
    },
    {
     "name": "stdin",
     "output_type": "stream",
     "text": [
      "Enter the year:  2005\n"
     ]
    },
    {
     "name": "stdout",
     "output_type": "stream",
     "text": [
      "To see the similar countries first provide the variable, for which you want to see the graph\n",
      "Index: 0, Variable: Public water supply - non-freshwater\n",
      "Index: 1, Variable: Electricity production (cooling). Non-freshwater\n",
      "Index: 2, Variable: Total abstractions of reused water\n",
      "Index: 3, Variable: Abstractions for manufacturing. Reused water\n",
      "Index: 4, Variable: Total losses during transport\n",
      "Index: 5, Variable: Total gross abstraction non-freshwater\n",
      "Index: 6, Variable: Abstractions for services - non-freshwater\n",
      "Index: 7, Variable: Abstractions for agriculture, forestry, fishing. Non-freshwater\n",
      "Index: 8, Variable: Abstractions for irrigation. Non-freshwater\n",
      "Index: 9, Variable: Abstractions for manufacturing. Non-freshwater\n",
      "Index: 10, Variable: Abstractions for cooling (manufacturing). Non-freshwater\n",
      "Index: 11, Variable: Total water made available for use\n",
      "Index: 12, Variable: Abstractions for hydro-electricity\n",
      "Index: 13, Variable: Public water supply\n",
      "Index: 14, Variable: Public water supply for agriculture, forestry and fishing\n",
      "Index: 15, Variable: Public water supply for mining and quarrying\n",
      "Index: 16, Variable: Public water supply for total manufacturing\n",
      "Index: 17, Variable: Public water supply for cooling (manufacturing)\n",
      "Index: 18, Variable: Public water supply for electricity\n",
      "Index: 19, Variable: Public water supply for cooling (electricity)\n",
      "Index: 20, Variable: Public water supply for households\n",
      "Index: 21, Variable: Public water supply for food processing industry\n",
      "Index: 22, Variable: Public water supply for basic metals\n",
      "Index: 23, Variable: Public water supply for textiles\n",
      "Index: 24, Variable: Public water supply for paper products\n",
      "Index: 25, Variable: Public water supply for chemicals, refined petroleum etc\n",
      "Index: 26, Variable: Public water supply for other manufacturing industries\n",
      "Index: 27, Variable: Public water supply for services\n",
      "Index: 28, Variable: Public water supply for industry and construction\n",
      "Index: 29, Variable: Self- and other supply \n",
      "Index: 30, Variable: Self- and other supply - Households\n",
      "Index: 31, Variable: Self- and other supply - Services\n",
      "Index: 32, Variable: Self- and other supply for electricity production (cooling)\n",
      "Index: 33, Variable: Self- and other supply for electricity production and distribution\n",
      "Index: 34, Variable: Self- and other supply - Other manufacturing\n",
      "Index: 35, Variable: Self- and other supply for manufacturing (cooling)\n",
      "Index: 36, Variable: Self- and other supply for basic metals\n",
      "Index: 37, Variable: Self- and other supply for chemicals, refined petroleum etc\n",
      "Index: 38, Variable: Self- and other supply for mining and quarrying.\n",
      "Index: 39, Variable: Self- and other supply for industry and contruction\n",
      "Index: 40, Variable: Self- and other supply for paper products\n",
      "Index: 41, Variable: Self- and other supply for agriculture, fishing and forestry\n",
      "Index: 42, Variable: Self- and other supply for textiles\n",
      "Index: 43, Variable: Self- and other supply for food processing industry\n",
      "Index: 44, Variable: Self- and other supply for total manufacturing\n",
      "Index: 45, Variable: Total gross abstraction. Desalinated water\n",
      "Index: 46, Variable: Water abstraction for public water supply. Desalinated water\n",
      "Index: 47, Variable: Public water supply for industrial activities\n",
      "Index: 48, Variable: Abstractions for irrigation. Reused water\n",
      "Index: 49, Variable: Imported water\n",
      "Index: 50, Variable: Exported water\n",
      "Index: 51, Variable: Total non-renewable groundwater\n",
      "Index: 52, Variable: Public water supply for construction\n",
      "Index: 53, Variable: Public water supply transport vehicles and equipment\n",
      "Index: 54, Variable: Self- and other supply - transport vehicles and equipment\n",
      "Index: 55, Variable: Abstractions for aquaculture. Non-freshwater\n",
      "Index: 56, Variable: Self- and other supply - Construction\n",
      "Index: 57, Variable: Total desalinated water. Non-freshwater\n",
      "Index: 58, Variable: Abstractions from artificial reservoirs \n",
      "Index: 59, Variable: Leakage\n",
      "Index: 60, Variable: Evaporation losses\n",
      "Index: 61, Variable: Self- and other supply for industrial activities\n"
     ]
    },
    {
     "name": "stdin",
     "output_type": "stream",
     "text": [
      "Enter the Index:  60\n"
     ]
    },
    {
     "name": "stdout",
     "output_type": "stream",
     "text": [
      "year         2005\n",
      "country          \n",
      "Belgium      79.0\n",
      "Lithuania     0.0\n",
      "Netherlands   0.0\n",
      "Slovenia      0.0\n",
      "Country Number: 0, Country: Belgium\n",
      "Country Number: 1, Country: Lithuania\n",
      "Country Number: 2, Country: Netherlands\n",
      "Country Number: 3, Country: Slovenia\n"
     ]
    },
    {
     "name": "stdin",
     "output_type": "stream",
     "text": [
      "Enter the Country Number for which you want the Similar Countries:  1\n"
     ]
    },
    {
     "name": "stdout",
     "output_type": "stream",
     "text": [
      "Countries with similar pollution rates to Lithuania with pollution rate 0.0  in 1970 for Evaporation losses:\n",
      "Slovenia with pollution rate: 0.0\n",
      "Netherlands with pollution rate: 0.0\n"
     ]
    }
   ],
   "source": [
    "## missing_rows = df[df['pollution_rate'].isnull()]\n",
    "# print(missing_rows)\n",
    "\n",
    "# Group the data by 'country' and collect pollution rates\n",
    "pollution_data = df.groupby('country')['pollution_rate'].apply(list).to_dict()\n",
    "\n",
    "\n",
    "# Perform linear interpolation for each missing row\n",
    "for index, row in missing_rows.iterrows():\n",
    "    country = row['country']\n",
    "    years = df[df['country'] == country]['year'].tolist()\n",
    "    pollution_rates = pollution_data[country]\n",
    "    missing_year = row['year']\n",
    "    \n",
    "    # Perform linear interpolation\n",
    "    f = interpolate.interp1d(years, pollution_rates, kind='linear')\n",
    "    interpolated_rate = f(missing_year)\n",
    "    \n",
    "    # Update the missing value with the interpolated rate\n",
    "    df.at[index, 'pollution_rate'] = interpolated_rate\n",
    "\n",
    "print(\"To see the similar countries first provide the year, for which you want to see the graph\")\n",
    "unique_years = df['year'].unique()\n",
    "for year in unique_years:\n",
    "    print(year)\n",
    "selected_year = int(input(\"Enter the year: \"))\n",
    "# selected_year = 2005\n",
    "filtered_df = df[df['year'] == selected_year]\n",
    "\n",
    "print(\"To see the similar countries first provide the variable, for which you want to see the graph\")\n",
    "unique_variables = filtered_df['Variable'].unique()\n",
    "for index, value in enumerate(unique_variables):\n",
    "    print(f\"Index: {index}, Variable: {value}\")\n",
    "\n",
    "selected_variable = unique_variables[int(input(\"Enter the Index: \"))]\n",
    "# selected_variable = unique_variables[60]\n",
    "# print(selected_variable)\n",
    "\n",
    "final_filtered_df = filtered_df[filtered_df['Variable'] == selected_variable]\n",
    "\n",
    "pivot_table = final_filtered_df.pivot(index='country', columns='year', values='pollution_rate')\n",
    "# print(len(pivot_table.index))\n",
    "copy_table = pivot_table\n",
    "if(len(pivot_table.index) <= 3 ): \n",
    "    print(\"We only have 3 countries for this criteria so result might not be accurate.\")\n",
    "    neigh = NearestNeighbors(n_neighbors=2)\n",
    "    \n",
    "else: \n",
    "    neigh = NearestNeighbors(n_neighbors=3)\n",
    "neigh.fit(pivot_table.values)\n",
    "distances, indices = neigh.kneighbors(pivot_table.values)\n",
    "# print(pivot_table)\n",
    "countries = pivot_table.index\n",
    "# print(pivot_table.loc[\"Belgium\",2005])\n",
    "for index, value in enumerate(countries):\n",
    "    print(f\"Country Number: {index}, Country: {value}\")\n",
    "selected_country = int(input(\"Enter the Country Number for which you want the Similar Countries: \"))\n",
    "print(f\"Countries with similar pollution rates to {countries[selected_country]} with pollution rate {pivot_table.loc[countries[selected_country],selected_year]}  in {year} for {selected_variable}:\")\n",
    "for country_index, country in enumerate(pivot_table.index):\n",
    "    \n",
    "    if(country_index == selected_country):\n",
    "        justlist = pivot_table.index[indices[country_index]].to_list()\n",
    "        justlist.remove(country)\n",
    "        \n",
    "        # similar_countries = ', '.join(justlist)\n",
    "        for each in justlist:\n",
    "            print(each, \"with pollution rate:\", pivot_table.loc[each,selected_year])\n",
    "        # print(f\"{country}: {similar_countries}\")\n",
    "# print()\n",
    "\n",
    "\n"
   ]
  },
  {
   "cell_type": "markdown",
   "id": "9222d585-d255-45c2-bf2f-8f89d355dfd4",
   "metadata": {},
   "source": []
  }
 ],
 "metadata": {
  "kernelspec": {
   "display_name": "Python 3 (ipykernel)",
   "language": "python",
   "name": "python3"
  },
  "language_info": {
   "codemirror_mode": {
    "name": "ipython",
    "version": 3
   },
   "file_extension": ".py",
   "mimetype": "text/x-python",
   "name": "python",
   "nbconvert_exporter": "python",
   "pygments_lexer": "ipython3",
   "version": "3.10.5"
  }
 },
 "nbformat": 4,
 "nbformat_minor": 5
}
